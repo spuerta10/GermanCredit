{
 "cells": [
  {
   "cell_type": "code",
   "execution_count": 1,
   "metadata": {},
   "outputs": [],
   "source": [
    "import pandas as pd\n",
    "import numpy as np\n",
    "import pyarrow as pa"
   ]
  },
  {
   "cell_type": "code",
   "execution_count": 2,
   "metadata": {},
   "outputs": [],
   "source": [
    "df = pd.read_csv(r\"..\\data\\raw_german_credit_data.csv\")"
   ]
  },
  {
   "cell_type": "code",
   "execution_count": 3,
   "metadata": {},
   "outputs": [
    {
     "data": {
      "text/html": [
       "<div>\n",
       "<style scoped>\n",
       "    .dataframe tbody tr th:only-of-type {\n",
       "        vertical-align: middle;\n",
       "    }\n",
       "\n",
       "    .dataframe tbody tr th {\n",
       "        vertical-align: top;\n",
       "    }\n",
       "\n",
       "    .dataframe thead th {\n",
       "        text-align: right;\n",
       "    }\n",
       "</style>\n",
       "<table border=\"1\" class=\"dataframe\">\n",
       "  <thead>\n",
       "    <tr style=\"text-align: right;\">\n",
       "      <th></th>\n",
       "      <th>Duration</th>\n",
       "      <th>Checking account</th>\n",
       "      <th>Credit amount</th>\n",
       "      <th>Purpose</th>\n",
       "      <th>Job</th>\n",
       "      <th>Sex</th>\n",
       "      <th>data_source</th>\n",
       "      <th>Saving accounts</th>\n",
       "      <th>Housing</th>\n",
       "      <th>Risk</th>\n",
       "      <th>Age</th>\n",
       "      <th>Unnamed: 0</th>\n",
       "    </tr>\n",
       "  </thead>\n",
       "  <tbody>\n",
       "    <tr>\n",
       "      <th>4815</th>\n",
       "      <td>21.0</td>\n",
       "      <td>little</td>\n",
       "      <td>3763</td>\n",
       "      <td>car</td>\n",
       "      <td>1.0</td>\n",
       "      <td>male</td>\n",
       "      <td>kaggle</td>\n",
       "      <td>NaN</td>\n",
       "      <td>own</td>\n",
       "      <td>good</td>\n",
       "      <td>24</td>\n",
       "      <td>906.0</td>\n",
       "    </tr>\n",
       "    <tr>\n",
       "      <th>849</th>\n",
       "      <td>18.0</td>\n",
       "      <td>moderate</td>\n",
       "      <td>3590</td>\n",
       "      <td>business</td>\n",
       "      <td>0.0</td>\n",
       "      <td>male</td>\n",
       "      <td>kaggle</td>\n",
       "      <td>little</td>\n",
       "      <td>own</td>\n",
       "      <td>good</td>\n",
       "      <td>40</td>\n",
       "      <td>950.0</td>\n",
       "    </tr>\n",
       "    <tr>\n",
       "      <th>1018</th>\n",
       "      <td>15.0</td>\n",
       "      <td>NaN</td>\n",
       "      <td>3029</td>\n",
       "      <td>car</td>\n",
       "      <td>2.0</td>\n",
       "      <td>male</td>\n",
       "      <td>kaggle</td>\n",
       "      <td>little</td>\n",
       "      <td>own</td>\n",
       "      <td>good</td>\n",
       "      <td>33</td>\n",
       "      <td>749.0</td>\n",
       "    </tr>\n",
       "    <tr>\n",
       "      <th>571</th>\n",
       "      <td>30.0</td>\n",
       "      <td>little</td>\n",
       "      <td>11998</td>\n",
       "      <td>repairs</td>\n",
       "      <td>1.0</td>\n",
       "      <td>male</td>\n",
       "      <td>kaggle</td>\n",
       "      <td>little</td>\n",
       "      <td>own</td>\n",
       "      <td>bad</td>\n",
       "      <td>34</td>\n",
       "      <td>274.0</td>\n",
       "    </tr>\n",
       "    <tr>\n",
       "      <th>2103</th>\n",
       "      <td>36.0</td>\n",
       "      <td>little</td>\n",
       "      <td>5493</td>\n",
       "      <td>car</td>\n",
       "      <td>2.0</td>\n",
       "      <td>male</td>\n",
       "      <td>kaggle</td>\n",
       "      <td>little</td>\n",
       "      <td>free</td>\n",
       "      <td>good</td>\n",
       "      <td>42</td>\n",
       "      <td>501.0</td>\n",
       "    </tr>\n",
       "    <tr>\n",
       "      <th>1636</th>\n",
       "      <td>15.0</td>\n",
       "      <td>NaN</td>\n",
       "      <td>1979</td>\n",
       "      <td>radio/TV</td>\n",
       "      <td>2.0</td>\n",
       "      <td>male</td>\n",
       "      <td>kaggle</td>\n",
       "      <td>NaN</td>\n",
       "      <td>own</td>\n",
       "      <td>good</td>\n",
       "      <td>35</td>\n",
       "      <td>625.0</td>\n",
       "    </tr>\n",
       "    <tr>\n",
       "      <th>4045</th>\n",
       "      <td>12.0</td>\n",
       "      <td>NaN</td>\n",
       "      <td>1493</td>\n",
       "      <td>radio/TV</td>\n",
       "      <td>2.0</td>\n",
       "      <td>female</td>\n",
       "      <td>kaggle</td>\n",
       "      <td>little</td>\n",
       "      <td>own</td>\n",
       "      <td>good</td>\n",
       "      <td>34</td>\n",
       "      <td>638.0</td>\n",
       "    </tr>\n",
       "    <tr>\n",
       "      <th>3536</th>\n",
       "      <td>9.0</td>\n",
       "      <td>NaN</td>\n",
       "      <td>1313</td>\n",
       "      <td>furniture/equipment</td>\n",
       "      <td>2.0</td>\n",
       "      <td>male</td>\n",
       "      <td>kaggle</td>\n",
       "      <td>little</td>\n",
       "      <td>own</td>\n",
       "      <td>good</td>\n",
       "      <td>20</td>\n",
       "      <td>428.0</td>\n",
       "    </tr>\n",
       "    <tr>\n",
       "      <th>3737</th>\n",
       "      <td>24.0</td>\n",
       "      <td>NaN</td>\n",
       "      <td>1516</td>\n",
       "      <td>radio/TV</td>\n",
       "      <td>1.0</td>\n",
       "      <td>female</td>\n",
       "      <td>kaggle</td>\n",
       "      <td>rich</td>\n",
       "      <td>own</td>\n",
       "      <td>good</td>\n",
       "      <td>43</td>\n",
       "      <td>399.0</td>\n",
       "    </tr>\n",
       "    <tr>\n",
       "      <th>90</th>\n",
       "      <td>24.0</td>\n",
       "      <td>NaN</td>\n",
       "      <td>5511</td>\n",
       "      <td>furniture/equipment</td>\n",
       "      <td>2.0</td>\n",
       "      <td>male</td>\n",
       "      <td>kaggle</td>\n",
       "      <td>moderate</td>\n",
       "      <td>own</td>\n",
       "      <td>good</td>\n",
       "      <td>25</td>\n",
       "      <td>311.0</td>\n",
       "    </tr>\n",
       "  </tbody>\n",
       "</table>\n",
       "</div>"
      ],
      "text/plain": [
       "      Duration Checking account Credit amount              Purpose  Job  \\\n",
       "4815      21.0           little          3763                  car  1.0   \n",
       "849       18.0         moderate          3590             business  0.0   \n",
       "1018      15.0              NaN          3029                  car  2.0   \n",
       "571       30.0           little         11998              repairs  1.0   \n",
       "2103      36.0           little          5493                  car  2.0   \n",
       "1636      15.0              NaN          1979             radio/TV  2.0   \n",
       "4045      12.0              NaN          1493             radio/TV  2.0   \n",
       "3536       9.0              NaN          1313  furniture/equipment  2.0   \n",
       "3737      24.0              NaN          1516             radio/TV  1.0   \n",
       "90        24.0              NaN          5511  furniture/equipment  2.0   \n",
       "\n",
       "         Sex data_source Saving accounts Housing  Risk Age  Unnamed: 0  \n",
       "4815    male      kaggle             NaN     own  good  24       906.0  \n",
       "849     male      kaggle          little     own  good  40       950.0  \n",
       "1018    male      kaggle          little     own  good  33       749.0  \n",
       "571     male      kaggle          little     own   bad  34       274.0  \n",
       "2103    male      kaggle          little    free  good  42       501.0  \n",
       "1636    male      kaggle             NaN     own  good  35       625.0  \n",
       "4045  female      kaggle          little     own  good  34       638.0  \n",
       "3536    male      kaggle          little     own  good  20       428.0  \n",
       "3737  female      kaggle            rich     own  good  43       399.0  \n",
       "90      male      kaggle        moderate     own  good  25       311.0  "
      ]
     },
     "execution_count": 3,
     "metadata": {},
     "output_type": "execute_result"
    }
   ],
   "source": [
    "df.sample(10)"
   ]
  },
  {
   "cell_type": "code",
   "execution_count": 4,
   "metadata": {},
   "outputs": [],
   "source": [
    "nans = ['NA', 'N/A', 'null', 'NULL', 'nan', 'NaN', '', ' ', '?']\n",
    "for col in df.columns:\n",
    "    if len(df[df[col].isin(nans)]) > 0:\n",
    "        print(f\"Weird Nan representation found for column {col}\")"
   ]
  },
  {
   "cell_type": "markdown",
   "metadata": {},
   "source": [
    "No weird representation for Nan values found for columns"
   ]
  },
  {
   "cell_type": "code",
   "execution_count": 5,
   "metadata": {},
   "outputs": [],
   "source": [
    "for col in df.columns:\n",
    "    assert len(df[pd.isna(df[col])]) + len(df[df[col].notna()]) == len(df[col]), f\"Nan + not nan assertion invalid for column {col}\""
   ]
  },
  {
   "cell_type": "markdown",
   "metadata": {},
   "source": [
    "We can see that indeed all nan + non nan values match up to the column length."
   ]
  },
  {
   "cell_type": "markdown",
   "metadata": {},
   "source": [
    "I'll get rid of Checking account column, because it contains too much Nans in it. Think it's a good idea to get rid of Sex aswell to not bias the model."
   ]
  },
  {
   "cell_type": "markdown",
   "metadata": {},
   "source": [
    "Now let's get rid off duplicated rows, and then of the Unnamed 0 and data_source columns "
   ]
  },
  {
   "cell_type": "code",
   "execution_count": 6,
   "metadata": {},
   "outputs": [],
   "source": [
    "no_dups = (\n",
    "    df\n",
    "    .drop_duplicates(subset=[\"Unnamed: 0\"], keep=\"first\")\n",
    "    .drop(columns=[\"Unnamed: 0\", \"Checking account\", \"data_source\"])\n",
    ")"
   ]
  },
  {
   "cell_type": "code",
   "execution_count": 7,
   "metadata": {},
   "outputs": [
    {
     "data": {
      "text/html": [
       "<div>\n",
       "<style scoped>\n",
       "    .dataframe tbody tr th:only-of-type {\n",
       "        vertical-align: middle;\n",
       "    }\n",
       "\n",
       "    .dataframe tbody tr th {\n",
       "        vertical-align: top;\n",
       "    }\n",
       "\n",
       "    .dataframe thead th {\n",
       "        text-align: right;\n",
       "    }\n",
       "</style>\n",
       "<table border=\"1\" class=\"dataframe\">\n",
       "  <thead>\n",
       "    <tr style=\"text-align: right;\">\n",
       "      <th></th>\n",
       "      <th>Duration</th>\n",
       "      <th>Credit amount</th>\n",
       "      <th>Purpose</th>\n",
       "      <th>Job</th>\n",
       "      <th>Sex</th>\n",
       "      <th>Saving accounts</th>\n",
       "      <th>Housing</th>\n",
       "      <th>Risk</th>\n",
       "      <th>Age</th>\n",
       "    </tr>\n",
       "  </thead>\n",
       "  <tbody>\n",
       "    <tr>\n",
       "      <th>421</th>\n",
       "      <td>27.0</td>\n",
       "      <td>5965</td>\n",
       "      <td>car</td>\n",
       "      <td>3.0</td>\n",
       "      <td>male</td>\n",
       "      <td>little</td>\n",
       "      <td>own</td>\n",
       "      <td>good</td>\n",
       "      <td>30</td>\n",
       "    </tr>\n",
       "    <tr>\n",
       "      <th>351</th>\n",
       "      <td>18.0</td>\n",
       "      <td>2124</td>\n",
       "      <td>furniture/equipment</td>\n",
       "      <td>2.0</td>\n",
       "      <td>female</td>\n",
       "      <td>little</td>\n",
       "      <td>rent</td>\n",
       "      <td>bad</td>\n",
       "      <td>24</td>\n",
       "    </tr>\n",
       "    <tr>\n",
       "      <th>134</th>\n",
       "      <td>24.0</td>\n",
       "      <td>11938</td>\n",
       "      <td>vacation/others</td>\n",
       "      <td>3.0</td>\n",
       "      <td>male</td>\n",
       "      <td>little</td>\n",
       "      <td>own</td>\n",
       "      <td>bad</td>\n",
       "      <td>39</td>\n",
       "    </tr>\n",
       "    <tr>\n",
       "      <th>519</th>\n",
       "      <td>21.0</td>\n",
       "      <td>1647</td>\n",
       "      <td>car</td>\n",
       "      <td>1.0</td>\n",
       "      <td>male</td>\n",
       "      <td>NaN</td>\n",
       "      <td>own</td>\n",
       "      <td>bad</td>\n",
       "      <td>40</td>\n",
       "    </tr>\n",
       "    <tr>\n",
       "      <th>375</th>\n",
       "      <td>27.0</td>\n",
       "      <td>4526</td>\n",
       "      <td>furniture/equipment</td>\n",
       "      <td>1.0</td>\n",
       "      <td>male</td>\n",
       "      <td>rich</td>\n",
       "      <td>own</td>\n",
       "      <td>good</td>\n",
       "      <td>32</td>\n",
       "    </tr>\n",
       "  </tbody>\n",
       "</table>\n",
       "</div>"
      ],
      "text/plain": [
       "     Duration Credit amount              Purpose  Job     Sex Saving accounts  \\\n",
       "421      27.0          5965                  car  3.0    male          little   \n",
       "351      18.0          2124  furniture/equipment  2.0  female          little   \n",
       "134      24.0         11938      vacation/others  3.0    male          little   \n",
       "519      21.0          1647                  car  1.0    male             NaN   \n",
       "375      27.0          4526  furniture/equipment  1.0    male            rich   \n",
       "\n",
       "    Housing  Risk Age  \n",
       "421     own  good  30  \n",
       "351    rent   bad  24  \n",
       "134     own   bad  39  \n",
       "519     own   bad  40  \n",
       "375     own  good  32  "
      ]
     },
     "execution_count": 7,
     "metadata": {},
     "output_type": "execute_result"
    }
   ],
   "source": [
    "no_dups.sample(5)"
   ]
  },
  {
   "cell_type": "markdown",
   "metadata": {},
   "source": [
    "Now, let's fix the dtypes\n",
    "|Column | Description | Type |\n",
    "|-|-|-|\n",
    "| Duration | Credit's estimated duration in Months | Numerical continuous |\n",
    "| Credit amount | Required credit ammount | Numerical continuous |\n",
    "| Purpose | What is the credit for | Categorical nominal |\n",
    "| Job | 0 = unskilled and non-resident, 1 = unskilled and resident, 2 = skilled, 3 = highly skilled | Categorical ordinal |\n",
    "| Sex | | Categorical nominal |\n",
    "| Saving accounts | Level of savings of the applicant (e.g., little, quite rich, rich) | Categorical ordinal |\n",
    "| Housing | Type of housing situation (e.g., rent, own, free) | Categorical nominal |\n",
    "| Risk | bad = 0, 1 = good | Categorical binary |\n",
    "| Age | Age of the credit requester | Numerical continuous |\n"
   ]
  },
  {
   "cell_type": "markdown",
   "metadata": {},
   "source": [
    "First, let's handle categorical types"
   ]
  },
  {
   "cell_type": "code",
   "execution_count": 8,
   "metadata": {},
   "outputs": [],
   "source": [
    "categorical_cols = {\n",
    "    \"Purpose\": [], \n",
    "    \"Job\": [0, 1, 2, 3], \n",
    "    \"Sex\": [],\n",
    "    \"Saving accounts\": ['little', 'quite rich', 'rich'], \n",
    "    \"Housing\": [],\n",
    "    \"Risk\": [\"good\", \"bad\"] \n",
    "}\n",
    "\n",
    "no_dups[list(categorical_cols.keys())] = no_dups[list(categorical_cols.keys())].astype(\"category\")\n",
    "\n",
    "for col, categories in categorical_cols.items():\n",
    "    if len(categories) > 0:\n",
    "        no_dups[col] = pd.Categorical(no_dups[col], categories=categories, ordered=True)"
   ]
  },
  {
   "cell_type": "markdown",
   "metadata": {},
   "source": [
    "Now, let's handle numerical columns"
   ]
  },
  {
   "cell_type": "code",
   "execution_count": 9,
   "metadata": {},
   "outputs": [
    {
     "name": "stdout",
     "output_type": "stream",
     "text": [
      "Invalid values found for column Duration: [nan]\n",
      "Invalid values found for column Credit amount: [nan 'dfas']\n",
      "Invalid values found for column Age: [nan]\n"
     ]
    }
   ],
   "source": [
    "numeric_cols = {\n",
    "    \"Duration\" : \"Int64\",  # has to be base 64 so it can be nullable\n",
    "    \"Credit amount\": \"Int64\",\n",
    "    \"Age\": \"Int64\"\n",
    "}\n",
    "\n",
    "checking_df = no_dups.copy()\n",
    "for col in numeric_cols.keys():\n",
    "    checking_df[col] = checking_df[col].astype(str)  # convert to string temporarily for checking\n",
    "    mask = ~checking_df[col].str.match(r'^-?\\d+\\.?\\d*$', na=True)\n",
    "    print(f\"Invalid values found for column {col}:\", no_dups[mask][col].unique())\n",
    "    no_dups.loc[mask, col] = np.nan\n",
    "\n",
    "no_dups = no_dups.astype({col: num_type for col, num_type in numeric_cols.items()})"
   ]
  },
  {
   "cell_type": "code",
   "execution_count": 10,
   "metadata": {},
   "outputs": [
    {
     "name": "stdout",
     "output_type": "stream",
     "text": [
      "<class 'pandas.core.frame.DataFrame'>\n",
      "Index: 966 entries, 0 to 1914\n",
      "Data columns (total 9 columns):\n",
      " #   Column           Non-Null Count  Dtype   \n",
      "---  ------           --------------  -----   \n",
      " 0   Duration         939 non-null    Int64   \n",
      " 1   Credit amount    928 non-null    Int64   \n",
      " 2   Purpose          934 non-null    category\n",
      " 3   Job              947 non-null    category\n",
      " 4   Sex              937 non-null    category\n",
      " 5   Saving accounts  667 non-null    category\n",
      " 6   Housing          943 non-null    category\n",
      " 7   Risk             936 non-null    category\n",
      " 8   Age              958 non-null    Int64   \n",
      "dtypes: Int64(3), category(6)\n",
      "memory usage: 39.8 KB\n"
     ]
    }
   ],
   "source": [
    "no_dups.info()"
   ]
  },
  {
   "cell_type": "markdown",
   "metadata": {},
   "source": [
    "Lets drop the index col"
   ]
  },
  {
   "cell_type": "code",
   "execution_count": 11,
   "metadata": {},
   "outputs": [],
   "source": [
    "no_dups = no_dups.reset_index(drop=True)"
   ]
  },
  {
   "cell_type": "code",
   "execution_count": 12,
   "metadata": {},
   "outputs": [],
   "source": [
    "schema = pa.Table.from_pandas(no_dups).schema"
   ]
  },
  {
   "cell_type": "code",
   "execution_count": 13,
   "metadata": {},
   "outputs": [],
   "source": [
    "no_dups.to_parquet(\n",
    "    r\"..\\data\\types_fixed_german_credit_data.parquet\", \n",
    "    index = False,\n",
    "    schema = schema\n",
    ")"
   ]
  }
 ],
 "metadata": {
  "kernelspec": {
   "display_name": "venv",
   "language": "python",
   "name": "python3"
  },
  "language_info": {
   "codemirror_mode": {
    "name": "ipython",
    "version": 3
   },
   "file_extension": ".py",
   "mimetype": "text/x-python",
   "name": "python",
   "nbconvert_exporter": "python",
   "pygments_lexer": "ipython3",
   "version": "3.11.9"
  }
 },
 "nbformat": 4,
 "nbformat_minor": 2
}
