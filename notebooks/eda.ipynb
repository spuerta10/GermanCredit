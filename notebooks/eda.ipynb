{
 "cells": [
  {
   "cell_type": "code",
   "execution_count": 41,
   "metadata": {},
   "outputs": [],
   "source": [
    "from ydata_profiling import ProfileReport\n",
    "import pandas as pd"
   ]
  },
  {
   "cell_type": "code",
   "execution_count": null,
   "metadata": {},
   "outputs": [
    {
     "data": {
      "text/html": [
       "<div>\n",
       "<style scoped>\n",
       "    .dataframe tbody tr th:only-of-type {\n",
       "        vertical-align: middle;\n",
       "    }\n",
       "\n",
       "    .dataframe tbody tr th {\n",
       "        vertical-align: top;\n",
       "    }\n",
       "\n",
       "    .dataframe thead th {\n",
       "        text-align: right;\n",
       "    }\n",
       "</style>\n",
       "<table border=\"1\" class=\"dataframe\">\n",
       "  <thead>\n",
       "    <tr style=\"text-align: right;\">\n",
       "      <th></th>\n",
       "      <th>Duration</th>\n",
       "      <th>Credit amount</th>\n",
       "      <th>Purpose</th>\n",
       "      <th>Job</th>\n",
       "      <th>Sex</th>\n",
       "      <th>Saving accounts</th>\n",
       "      <th>Housing</th>\n",
       "      <th>Risk</th>\n",
       "      <th>Age</th>\n",
       "    </tr>\n",
       "  </thead>\n",
       "  <tbody>\n",
       "    <tr>\n",
       "      <th>0</th>\n",
       "      <td>24</td>\n",
       "      <td>3632</td>\n",
       "      <td>car</td>\n",
       "      <td>2.0</td>\n",
       "      <td>female</td>\n",
       "      <td>little</td>\n",
       "      <td>rent</td>\n",
       "      <td>good</td>\n",
       "      <td>22</td>\n",
       "    </tr>\n",
       "    <tr>\n",
       "      <th>1</th>\n",
       "      <td>24</td>\n",
       "      <td>2603</td>\n",
       "      <td>car</td>\n",
       "      <td>2.0</td>\n",
       "      <td>female</td>\n",
       "      <td>rich</td>\n",
       "      <td>rent</td>\n",
       "      <td>good</td>\n",
       "      <td>28</td>\n",
       "    </tr>\n",
       "    <tr>\n",
       "      <th>2</th>\n",
       "      <td>12</td>\n",
       "      <td>902</td>\n",
       "      <td>education</td>\n",
       "      <td>2.0</td>\n",
       "      <td>male</td>\n",
       "      <td>little</td>\n",
       "      <td>rent</td>\n",
       "      <td>bad</td>\n",
       "      <td>21</td>\n",
       "    </tr>\n",
       "    <tr>\n",
       "      <th>3</th>\n",
       "      <td>9</td>\n",
       "      <td>654</td>\n",
       "      <td>car</td>\n",
       "      <td>1.0</td>\n",
       "      <td>male</td>\n",
       "      <td>little</td>\n",
       "      <td>own</td>\n",
       "      <td>bad</td>\n",
       "      <td>28</td>\n",
       "    </tr>\n",
       "    <tr>\n",
       "      <th>4</th>\n",
       "      <td>21</td>\n",
       "      <td>3414</td>\n",
       "      <td>education</td>\n",
       "      <td>2.0</td>\n",
       "      <td>male</td>\n",
       "      <td>little</td>\n",
       "      <td>own</td>\n",
       "      <td>bad</td>\n",
       "      <td>26</td>\n",
       "    </tr>\n",
       "  </tbody>\n",
       "</table>\n",
       "</div>"
      ],
      "text/plain": [
       "   Duration  Credit amount    Purpose  Job     Sex Saving accounts Housing  \\\n",
       "0        24           3632        car  2.0  female          little    rent   \n",
       "1        24           2603        car  2.0  female            rich    rent   \n",
       "2        12            902  education  2.0    male          little    rent   \n",
       "3         9            654        car  1.0    male          little     own   \n",
       "4        21           3414  education  2.0    male          little     own   \n",
       "\n",
       "   Risk  Age  \n",
       "0  good   22  \n",
       "1  good   28  \n",
       "2   bad   21  \n",
       "3   bad   28  \n",
       "4   bad   26  "
      ]
     },
     "execution_count": 42,
     "metadata": {},
     "output_type": "execute_result"
    },
    {
     "ename": "",
     "evalue": "",
     "output_type": "error",
     "traceback": [
      "\u001b[1;31mEl kernel se bloqueó al ejecutar código en la celda actual o en una celda anterior. \n",
      "\u001b[1;31mRevise el código de las celdas para identificar una posible causa del error. \n",
      "\u001b[1;31mHaga clic <a href='https://aka.ms/vscodeJupyterKernelCrash'>aquí</a> para obtener más información. \n",
      "\u001b[1;31mVea Jupyter <a href='command:jupyter.viewOutput'>log</a> para obtener más detalles."
     ]
    }
   ],
   "source": [
    "df = pd.read_parquet(r\"../data/types_fixed_german_credit_data.parquet\")\n",
    "df.head()"
   ]
  },
  {
   "cell_type": "code",
   "execution_count": null,
   "metadata": {},
   "outputs": [
    {
     "data": {
      "application/vnd.jupyter.widget-view+json": {
       "model_id": "f2921cde58ea454d8f9ddd7581b21f44",
       "version_major": 2,
       "version_minor": 0
      },
      "text/plain": [
       "Summarize dataset:   0%|          | 0/5 [00:00<?, ?it/s]"
      ]
     },
     "metadata": {},
     "output_type": "display_data"
    }
   ],
   "source": [
    "report = ProfileReport(df.sample(frac=0.9), explorative=True)\n",
    "report.to_file(r\"../data/eda.html\")"
   ]
  }
 ],
 "metadata": {
  "kernelspec": {
   "display_name": "Python 3",
   "language": "python",
   "name": "python3"
  },
  "language_info": {
   "codemirror_mode": {
    "name": "ipython",
    "version": 3
   },
   "file_extension": ".py",
   "mimetype": "text/x-python",
   "name": "python",
   "nbconvert_exporter": "python",
   "pygments_lexer": "ipython3",
   "version": "3.12.1"
  }
 },
 "nbformat": 4,
 "nbformat_minor": 2
}
